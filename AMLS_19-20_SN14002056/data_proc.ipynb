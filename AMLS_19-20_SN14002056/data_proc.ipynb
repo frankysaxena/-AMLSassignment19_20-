{
 "cells": [
  {
   "cell_type": "code",
   "execution_count": 1,
   "metadata": {},
   "outputs": [],
   "source": [
    "import pandas as pd\n",
    "import sklearn\n",
    "from scipy import misc\n",
    "import cv2\n",
    "import numpy as np \n",
    "\n",
    "# path = '/Users/fsaxena/Documents/UCL/Masters/IntroML1/AMLSassignment19_20/AMLS_19-20_SN14002056'\n",
    "path = '/home/fsaxena/amls/AMLSassignment19_20/AMLS_19-20_SN14002056'\n",
    "\n",
    "\n",
    "assignment_celeb = 'celeba'\n",
    "assignment_cartoon = 'cartoon_set'"
   ]
  },
  {
   "cell_type": "code",
   "execution_count": 2,
   "metadata": {},
   "outputs": [],
   "source": [
    "def data_loader(path_to_root, assignment):\n",
    "    return pd.read_csv(path_to_root + '/Datasets/original_dataset_AMLS_19-20/' + assignment + '/labels.csv', sep='\\t')\n",
    "    "
   ]
  },
  {
   "cell_type": "code",
   "execution_count": 3,
   "metadata": {},
   "outputs": [],
   "source": [
    "def convert_image_to_vector(file):\n",
    "    img = cv2.imread(file, cv2.IMREAD_UNCHANGED)\n",
    "    return img"
   ]
  },
  {
   "cell_type": "code",
   "execution_count": 4,
   "metadata": {},
   "outputs": [],
   "source": [
    "path_to_img=path+'/Datasets/original_dataset_AMLS_19-20/'+assignment_cartoon+'/img/1.png'\n",
    "path_pre_img = path+'/Datasets/original_dataset_AMLS_19-20/'+assignment_celeb+'/img/'"
   ]
  },
  {
   "cell_type": "code",
   "execution_count": 5,
   "metadata": {},
   "outputs": [
    {
     "data": {
      "text/plain": [
       "array([[[255, 255, 255,   0],\n",
       "        [255, 255, 255,   0],\n",
       "        [255, 255, 255,   0],\n",
       "        ...,\n",
       "        [255, 255, 255,   0],\n",
       "        [255, 255, 255,   0],\n",
       "        [255, 255, 255,   0]],\n",
       "\n",
       "       [[255, 255, 255,   0],\n",
       "        [255, 255, 255,   0],\n",
       "        [255, 255, 255,   0],\n",
       "        ...,\n",
       "        [255, 255, 255,   0],\n",
       "        [255, 255, 255,   0],\n",
       "        [255, 255, 255,   0]],\n",
       "\n",
       "       [[255, 255, 255,   0],\n",
       "        [255, 255, 255,   0],\n",
       "        [255, 255, 255,   0],\n",
       "        ...,\n",
       "        [255, 255, 255,   0],\n",
       "        [255, 255, 255,   0],\n",
       "        [255, 255, 255,   0]],\n",
       "\n",
       "       ...,\n",
       "\n",
       "       [[255, 255, 255,   0],\n",
       "        [255, 255, 255,   0],\n",
       "        [255, 255, 255,   0],\n",
       "        ...,\n",
       "        [255, 255, 255,   0],\n",
       "        [255, 255, 255,   0],\n",
       "        [255, 255, 255,   0]],\n",
       "\n",
       "       [[255, 255, 255,   0],\n",
       "        [255, 255, 255,   0],\n",
       "        [255, 255, 255,   0],\n",
       "        ...,\n",
       "        [255, 255, 255,   0],\n",
       "        [255, 255, 255,   0],\n",
       "        [255, 255, 255,   0]],\n",
       "\n",
       "       [[255, 255, 255,   0],\n",
       "        [255, 255, 255,   0],\n",
       "        [255, 255, 255,   0],\n",
       "        ...,\n",
       "        [255, 255, 255,   0],\n",
       "        [255, 255, 255,   0],\n",
       "        [255, 255, 255,   0]]], dtype=uint8)"
      ]
     },
     "execution_count": 5,
     "metadata": {},
     "output_type": "execute_result"
    }
   ],
   "source": [
    "np.array(convert_image_to_vector(path_to_img))"
   ]
  },
  {
   "cell_type": "code",
   "execution_count": 6,
   "metadata": {},
   "outputs": [],
   "source": [
    "## Now need to add each raw pic to each part of the training set"
   ]
  },
  {
   "cell_type": "code",
   "execution_count": 7,
   "metadata": {},
   "outputs": [
    {
     "name": "stdout",
     "output_type": "stream",
     "text": [
      "      Unnamed: 0  img_name  gender  smiling\n",
      "0              0     0.jpg      -1        1\n",
      "1              1     1.jpg      -1        1\n",
      "2              2     2.jpg       1       -1\n",
      "3              3     3.jpg      -1       -1\n",
      "4              4     4.jpg      -1       -1\n",
      "...          ...       ...     ...      ...\n",
      "4995        4995  4995.jpg       1        1\n",
      "4996        4996  4996.jpg       1        1\n",
      "4997        4997  4997.jpg       1        1\n",
      "4998        4998  4998.jpg       1        1\n",
      "4999        4999  4999.jpg       1        1\n",
      "\n",
      "[5000 rows x 4 columns]\n"
     ]
    }
   ],
   "source": [
    "celeb_dataframe = data_loader(path, assignment_celeb)\n",
    "print(celeb_dataframe)"
   ]
  },
  {
   "cell_type": "code",
   "execution_count": 8,
   "metadata": {},
   "outputs": [],
   "source": [
    "vec_Array = []\n",
    "for img_name in celeb_dataframe['img_name']:\n",
    "    img_vec = np.array(convert_image_to_vector(path_pre_img + img_name))\n",
    "    vec_Array.append(img_vec)"
   ]
  },
  {
   "cell_type": "code",
   "execution_count": 9,
   "metadata": {},
   "outputs": [],
   "source": [
    "x_dataset = vec_Array\n",
    "y_dataset = celeb_dataframe['gender']"
   ]
  },
  {
   "cell_type": "code",
   "execution_count": null,
   "metadata": {},
   "outputs": [],
   "source": []
  },
  {
   "cell_type": "code",
   "execution_count": 10,
   "metadata": {},
   "outputs": [],
   "source": [
    "# df = pd.DataFrame(data_Dict, columns = ['img_vec', 'gender'])"
   ]
  },
  {
   "cell_type": "code",
   "execution_count": 11,
   "metadata": {},
   "outputs": [],
   "source": [
    "# df.head()"
   ]
  },
  {
   "cell_type": "code",
   "execution_count": 12,
   "metadata": {},
   "outputs": [],
   "source": [
    "from sklearn.model_selection import train_test_split\n",
    " \n",
    "x, X_test, y, y_test = train_test_split(\n",
    "    x_dataset,\n",
    "    y_dataset,\n",
    "    test_size=0.2,\n",
    "    shuffle=True,\n",
    "    random_state=42,\n",
    ")"
   ]
  },
  {
   "cell_type": "code",
   "execution_count": 13,
   "metadata": {},
   "outputs": [],
   "source": [
    "X_train = x\n",
    "y_train = y"
   ]
  },
  {
   "cell_type": "code",
   "execution_count": 14,
   "metadata": {},
   "outputs": [],
   "source": [
    "# X_train, X_val, y_train, y_val = train_test_split(\n",
    "#     x,\n",
    "#     y,\n",
    "#     test_size=0.25,\n",
    "#     shuffle=True,\n",
    "#     random_state=42,\n",
    "# )"
   ]
  },
  {
   "cell_type": "code",
   "execution_count": 15,
   "metadata": {},
   "outputs": [],
   "source": [
    "from sklearn.base import BaseEstimator, TransformerMixin\n",
    "\n",
    "from sklearn.linear_model import SGDClassifier\n",
    "from sklearn.model_selection import cross_val_predict\n",
    "from sklearn.preprocessing import StandardScaler\n",
    "from skimage import color\n",
    "\n",
    "from skimage.feature import hog\n",
    "from skimage.io import imread\n",
    "from skimage.transform import rescale\n",
    " \n",
    "class RGB2GrayTransformer(BaseEstimator, TransformerMixin):\n",
    "    \"\"\"\n",
    "    Convert an array of RGB images to grayscale\n",
    "    \"\"\"\n",
    " \n",
    "    def __init__(self):\n",
    "        pass\n",
    " \n",
    "    def fit(self, X, y=None):\n",
    "        \"\"\"returns itself\"\"\"\n",
    "        return self\n",
    " \n",
    "    def transform(self, X, y=None):\n",
    "        \"\"\"perform the transformation and return an array\"\"\"\n",
    "        return np.array([color.rgb2gray(img) for img in X])\n",
    " \n",
    " \n",
    "class HogTransformer(BaseEstimator, TransformerMixin):\n",
    "    \"\"\"\n",
    "    Expects an array of 2d arrays (1 channel images)\n",
    "    Calculates hog features for each img\n",
    "    \"\"\"\n",
    " \n",
    "    def __init__(self, y=None, orientations=9,\n",
    "                 pixels_per_cell=(8, 8),\n",
    "                 cells_per_block=(3, 3), block_norm='L2-Hys'):\n",
    "        self.y = y\n",
    "        self.orientations = orientations\n",
    "        self.pixels_per_cell = pixels_per_cell\n",
    "        self.cells_per_block = cells_per_block\n",
    "        self.block_norm = block_norm\n",
    " \n",
    "    def fit(self, X, y=None):\n",
    "        return self\n",
    " \n",
    "    def transform(self, X, y=None):\n",
    " \n",
    "        def local_hog(X):\n",
    "            return hog(X,\n",
    "                       orientations=self.orientations,\n",
    "                       pixels_per_cell=self.pixels_per_cell,\n",
    "                       cells_per_block=self.cells_per_block,\n",
    "                       block_norm=self.block_norm)\n",
    " \n",
    "        try: # parallel\n",
    "            return np.array([local_hog(img) for img in X])\n",
    "        except:\n",
    "            return np.array([local_hog(img) for img in X])"
   ]
  },
  {
   "cell_type": "code",
   "execution_count": 16,
   "metadata": {},
   "outputs": [],
   "source": [
    "# create an instance of each transformer\n",
    "grayify = RGB2GrayTransformer()\n",
    "hogify = HogTransformer(\n",
    "    pixels_per_cell=(8, 8),\n",
    "    cells_per_block=(2,2),\n",
    "    orientations=9,\n",
    "    block_norm='L2-Hys'\n",
    ")\n",
    "scalify = StandardScaler()"
   ]
  },
  {
   "cell_type": "code",
   "execution_count": 17,
   "metadata": {},
   "outputs": [
    {
     "name": "stdout",
     "output_type": "stream",
     "text": [
      "(4000, 19656)\n"
     ]
    }
   ],
   "source": [
    "# call fit_transform on each transform converting X_train step by step\n",
    "X_train_gray = grayify.fit_transform(X_train)\n",
    "X_train_hog = hogify.fit_transform(X_train_gray)\n",
    "X_train_prepared = scalify.fit_transform(X_train_hog)\n",
    " \n",
    "print(X_train_prepared.shape)\n",
    "\n",
    "\n",
    "X_test_gray = grayify.transform(X_test)\n",
    "X_test_hog = hogify.transform(X_test_gray)\n",
    "X_test_prepared = scalify.transform(X_test_hog)"
   ]
  },
  {
   "cell_type": "code",
   "execution_count": 21,
   "metadata": {},
   "outputs": [
    {
     "name": "stdout",
     "output_type": "stream",
     "text": [
      "-------------FITTING MODELS-------------\n"
     ]
    },
    {
     "name": "stderr",
     "output_type": "stream",
     "text": [
      "[Parallel(n_jobs=-1)]: Using backend LokyBackend with 8 concurrent workers.\n",
      "[Parallel(n_jobs=-1)]: Done   2 out of   8 | elapsed:   29.7s remaining:  1.5min\n",
      "[Parallel(n_jobs=-1)]: Done   3 out of   8 | elapsed:   35.8s remaining:   59.7s\n",
      "[Parallel(n_jobs=-1)]: Done   4 out of   8 | elapsed:  1.0min remaining:  1.0min\n",
      "[Parallel(n_jobs=-1)]: Done   5 out of   8 | elapsed:  1.9min remaining:  1.1min\n",
      "[Parallel(n_jobs=-1)]: Done   6 out of   8 | elapsed:  2.7min remaining:   53.8s\n",
      "[Parallel(n_jobs=-1)]: Done   8 out of   8 | elapsed:  3.0min remaining:    0.0s\n",
      "[Parallel(n_jobs=-1)]: Done   8 out of   8 | elapsed:  3.0min finished\n",
      "[Parallel(n_jobs=-1)]: Using backend LokyBackend with 8 concurrent workers.\n"
     ]
    },
    {
     "name": "stdout",
     "output_type": "stream",
     "text": [
      "-------------SCORING MODELS-------------\n"
     ]
    },
    {
     "name": "stderr",
     "output_type": "stream",
     "text": [
      "[Parallel(n_jobs=-1)]: Done   2 out of   8 | elapsed:    0.2s remaining:    0.7s\n",
      "[Parallel(n_jobs=-1)]: Done   8 out of   8 | elapsed:    0.3s finished\n"
     ]
    },
    {
     "data": {
      "image/png": "[encoded data removed]",
      "text/plain": [
       "<Figure size 432x432 with 1 Axes>"
      ]
     },
     "metadata": {
      "needs_background": "light"
     },
     "output_type": "display_data"
    },
    {
     "name": "stdout",
     "output_type": "stream",
     "text": [
      "LogisticRegression(C=0.001, class_weight=None, dual=False, fit_intercept=True,\n",
      "                   intercept_scaling=1, l1_ratio=None, max_iter=100,\n",
      "                   multi_class='auto', n_jobs=-1, penalty='l2',\n",
      "                   random_state=None, solver='lbfgs', tol=0.0001, verbose=0,\n",
      "                   warm_start=False) 0.9835374149659863\n"
     ]
    }
   ],
   "source": [
    "from sklearn.model_selection import ParameterGrid\n",
    "from sklearn.linear_model import LogisticRegression\n",
    "from sklearn.metrics import roc_auc_score\n",
    "import parfit.parfit as pf\n",
    "\n",
    "grid = {\n",
    "    'C': [1e-7, 1e-6, 1e-5, 1e-4, 1e-3, 1e-2, 1e-1, 1e0],\n",
    "    'penalty': ['l2'],\n",
    "    'n_jobs': [-1]\n",
    "}\n",
    "paramGrid = ParameterGrid(grid)\n",
    "bestModel, bestScore, allModels, allScores = pf.bestFit(LogisticRegression, paramGrid,\n",
    "           X_train_prepared, y_train, X_test_prepared, y_test, \n",
    "           metric = roc_auc_score, scoreLabel = \"AUC\")\n",
    "print(bestModel, bestScore)\n",
    "\n"
   ]
  },
  {
   "cell_type": "code",
   "execution_count": 30,
   "metadata": {},
   "outputs": [
    {
     "name": "stdout",
     "output_type": "stream",
     "text": [
      "-------------FITTING MODELS-------------\n"
     ]
    },
    {
     "name": "stderr",
     "output_type": "stream",
     "text": [
      "[Parallel(n_jobs=-1)]: Using backend LokyBackend with 8 concurrent workers.\n",
      "[Parallel(n_jobs=-1)]: Done   2 out of   8 | elapsed:    3.9s remaining:   11.8s\n",
      "[Parallel(n_jobs=-1)]: Done   3 out of   8 | elapsed:    4.0s remaining:    6.6s\n",
      "[Parallel(n_jobs=-1)]: Done   4 out of   8 | elapsed:    4.2s remaining:    4.2s\n",
      "[Parallel(n_jobs=-1)]: Done   5 out of   8 | elapsed:    4.4s remaining:    2.6s\n",
      "[Parallel(n_jobs=-1)]: Done   6 out of   8 | elapsed:    4.9s remaining:    1.6s\n",
      "[Parallel(n_jobs=-1)]: Done   8 out of   8 | elapsed:    6.8s remaining:    0.0s\n",
      "[Parallel(n_jobs=-1)]: Done   8 out of   8 | elapsed:    6.8s finished\n",
      "[Parallel(n_jobs=-1)]: Using backend LokyBackend with 8 concurrent workers.\n"
     ]
    },
    {
     "name": "stdout",
     "output_type": "stream",
     "text": [
      "-------------SCORING MODELS-------------\n"
     ]
    },
    {
     "name": "stderr",
     "output_type": "stream",
     "text": [
      "[Parallel(n_jobs=-1)]: Done   2 out of   8 | elapsed:    0.3s remaining:    0.8s\n",
      "[Parallel(n_jobs=-1)]: Done   8 out of   8 | elapsed:    0.4s finished\n"
     ]
    },
    {
     "data": {
      "image/png": "[encoded data removed]",
      "text/plain": [
       "<Figure size 432x432 with 1 Axes>"
      ]
     },
     "metadata": {
      "needs_background": "light"
     },
     "output_type": "display_data"
    },
    {
     "name": "stdout",
     "output_type": "stream",
     "text": [
      "SGDClassifier(alpha=0.0001, average=False, class_weight=None,\n",
      "              early_stopping=False, epsilon=0.1, eta0=0.0, fit_intercept=True,\n",
      "              l1_ratio=0.15, learning_rate='optimal', loss='hinge',\n",
      "              max_iter=1000, n_iter_no_change=5, n_jobs=-1, penalty='l2',\n",
      "              power_t=0.5, random_state=None, shuffle=True, tol=0.001,\n",
      "              validation_fraction=0.1, verbose=0, warm_start=False) 0.9249899959983994\n"
     ]
    }
   ],
   "source": [
    "grid = {\n",
    "    'alpha': [1e-4, 1e-3, 1e-2, 1e-1, 1e0, 1e1, 1e2, 1e3], # learning rate\n",
    "    'max_iter': [1000], # number of epochs\n",
    "    'loss': ['hinge'], # logistic regression,\n",
    "    'penalty': ['l2'],\n",
    "    'n_jobs': [-1]\n",
    "}\n",
    "paramGrid = ParameterGrid(grid)\n",
    "\n",
    "bestModel, bestScore, allModels, allScores =  pf.bestFit(SGDClassifier, paramGrid, X_train_prepared, y_train, X_test_prepared, y_test, \n",
    "           metric = roc_auc_score, nfolds = 5, scoreLabel = \"AUC\")\n",
    "\n",
    "print(bestModel, bestScore)"
   ]
  },
  {
   "cell_type": "code",
   "execution_count": 101,
   "metadata": {},
   "outputs": [
    {
     "name": "stdout",
     "output_type": "stream",
     "text": [
      "Logistic: ROC AUC=0.941\n"
     ]
    },
    {
     "data": {
      "image/png": "[encoded data removed]",
      "text/plain": [
       "<Figure size 432x288 with 1 Axes>"
      ]
     },
     "metadata": {
      "needs_background": "light"
     },
     "output_type": "display_data"
    }
   ],
   "source": [
    "from sklearn.metrics import roc_curve\n",
    "from sklearn.metrics import roc_auc_score\n",
    "from matplotlib import pyplot as plt\n",
    "from sklearn.datasets import make_classification\n",
    "from sklearn.metrics import plot_confusion_matrix\n",
    "\n",
    "labels = np.array(['Male', 'Female'])\n",
    "\n",
    "\n",
    "X, y = make_classification(n_samples=1000, n_classes=2, random_state=1)\n",
    "# split into train/test sets\n",
    "trainX, testX, trainy, testy = train_test_split(X, y, test_size=0.5, random_state=2)\n",
    "# generate a no skill prediction (majority class)\n",
    "ns_probs = [0 for _ in range(len(testy))]\n",
    "ns_auc = roc_auc_score(testy, ns_probs)\n",
    "ns_fpr, ns_tpr, _ = roc_curve(testy, ns_probs)\n",
    "plt.plot(ns_fpr, ns_tpr, linestyle='--', label='No Skill')\n",
    "\n",
    "tolerance = 0.001\n",
    "\n",
    "sgd_clf = SGDClassifier(random_state=42, loss='log', max_iter=1000, tol=tolerance, n_jobs = -1)\n",
    "sgd_clf.fit(X_train_prepared, y_train)\n",
    "\n",
    "\n",
    "lr_probs = sgd_clf.predict_proba(X_test_prepared)\n",
    "lr_probs = lr_probs[:, 1]\n",
    "lr_auc = roc_auc_score(y_test, lr_probs)\n",
    "print('Logistic: ROC AUC=%.3f' % (lr_auc))\n",
    "lr_fpr, lr_tpr, _ = roc_curve(y_test, lr_probs)\n",
    "# plot the roc curve for the model\n",
    "plt.plot(lr_fpr, lr_tpr, marker='.', label='Logistic')\n",
    "# axis labels\n",
    "plt.xlabel('False Positive Rate')\n",
    "plt.ylabel('True Positive Rate')\n",
    "# show the legend\n",
    "plt.legend()\n",
    "plt.title('A1: ROC of SGD-Logistic w/ tolerance ' + str(tolerance))\n",
    "# show the plot\n",
    "with open('A1/ROC_SGDlog_tolerance' + str(tolerance) + '.png', 'wb') as f:\n",
    "    plt.savefig(f)\n"
   ]
  },
  {
   "cell_type": "code",
   "execution_count": 102,
   "metadata": {},
   "outputs": [
    {
     "data": {
      "image/png": "[encoded data removed]",
      "text/plain": [
       "<Figure size 432x288 with 2 Axes>"
      ]
     },
     "metadata": {
      "needs_background": "light"
     },
     "output_type": "display_data"
    }
   ],
   "source": [
    "dsp = plot_confusion_matrix(sgd_clf, X_test_prepared, y_test, display_labels=labels, normalize='true')\n",
    "\n",
    "plt.title(\"A1: Confusion Matrix w/ tolerance \" + str(tolerance))\n",
    "\n",
    "with open('A1/Confusion_MatrixSGDLog' + str(tolerance) + '.png', 'wb') as dsp:\n",
    "    plt.savefig(dsp)"
   ]
  },
  {
   "cell_type": "code",
   "execution_count": 81,
   "metadata": {},
   "outputs": [],
   "source": [
    "# X_val_gray = grayify.transform(X_val)\n",
    "# X_val_hog = hogify.transform(X_val_gray)\n",
    "# X_val_prepared = scalify.transform(X_val_hog)\n"
   ]
  },
  {
   "cell_type": "code",
   "execution_count": 55,
   "metadata": {},
   "outputs": [
    {
     "data": {
      "text/plain": [
       "array(['setosa', 'versicolor', 'virginica'], dtype='<U10')"
      ]
     },
     "execution_count": 55,
     "metadata": {},
     "output_type": "execute_result"
    }
   ],
   "source": [
    "from sklearn import svm, datasets\n",
    "\n",
    "# import some data to play with\n",
    "iris = datasets.load_iris()\n",
    "X = iris.data\n",
    "y = iris.target\n",
    "class_names = iris.target_names\n",
    "\n",
    "class_names"
   ]
  },
  {
   "cell_type": "code",
   "execution_count": 57,
   "metadata": {},
   "outputs": [
    {
     "name": "stdout",
     "output_type": "stream",
     "text": [
      "[ True False False  True  True  True  True  True  True  True  True  True\n",
      "  True  True  True  True  True  True  True  True  True  True  True  True\n",
      "  True]\n",
      "\n",
      "Percentage correct:  92.5\n"
     ]
    }
   ],
   "source": [
    "y_test_pred = sgd_clf.predict(X_test_prepared)\n",
    "print(np.array(y_test_pred == y_test)[:25])\n",
    "print('')\n",
    "print('Percentage correct: ', 100*np.sum(y_test_pred == y_test)/len(y_test))"
   ]
  },
  {
   "cell_type": "code",
   "execution_count": 58,
   "metadata": {},
   "outputs": [
    {
     "name": "stdout",
     "output_type": "stream",
     "text": [
      "Percentage correct:  92.5\n"
     ]
    }
   ],
   "source": [
    "from sklearn.pipeline import Pipeline\n",
    " \n",
    "HOG_pipeline = Pipeline([\n",
    "    ('grayify', RGB2GrayTransformer()),\n",
    "    ('hogify', HogTransformer(\n",
    "        pixels_per_cell=(8, 8),\n",
    "        cells_per_block=(2,2),\n",
    "        orientations=9,\n",
    "        block_norm='L2-Hys')\n",
    "    ),\n",
    "    ('scalify', StandardScaler()),\n",
    "    ('classify', SGDClassifier(random_state=42, max_iter=1000, tol=1e-3))\n",
    "])\n",
    " \n",
    "clf = HOG_pipeline.fit(X_train, y_train)\n",
    "print('Percentage correct: ', 100*np.sum(clf.predict(X_test) == y_test)/len(y_test))"
   ]
  },
  {
   "cell_type": "code",
   "execution_count": 59,
   "metadata": {},
   "outputs": [],
   "source": [
    "from sklearn.model_selection import GridSearchCV\n",
    " \n",
    "param_grid = [\n",
    "    {'hogify__orientations': [9],\n",
    "     'hogify__cells_per_block': [(3, 3)],\n",
    "     'hogify__pixels_per_cell': [(14, 14)],\n",
    "     'classify': [\n",
    "#          SGDClassifier(random_state=42, max_iter=1000, tol=1e-3),\n",
    "        svm.SVC(kernel='rbf', C=1),\n",
    "        svm.SVC(kernel='rbf', C=10),\n",
    "        svm.SVC(kernel='rbf', C=100)]}\n",
    "]"
   ]
  },
  {
   "cell_type": "code",
   "execution_count": 60,
   "metadata": {},
   "outputs": [
    {
     "name": "stdout",
     "output_type": "stream",
     "text": [
      "Fitting 3 folds for each of 3 candidates, totalling 9 fits\n"
     ]
    },
    {
     "name": "stderr",
     "output_type": "stream",
     "text": [
      "[Parallel(n_jobs=-1)]: Using backend LokyBackend with 8 concurrent workers.\n",
      "[Parallel(n_jobs=-1)]: Done   4 out of   9 | elapsed:  4.8min remaining:  6.0min\n",
      "[Parallel(n_jobs=-1)]: Done   9 out of   9 | elapsed:  8.7min finished\n"
     ]
    }
   ],
   "source": [
    "grid_search = GridSearchCV(HOG_pipeline,\n",
    "                           param_grid,\n",
    "                           cv=3,\n",
    "                           n_jobs=-1,\n",
    "                           scoring='accuracy',\n",
    "                           verbose=1,\n",
    "                           return_train_score=True)\n",
    " \n",
    "grid_res = grid_search.fit(X_train, y_train)"
   ]
  },
  {
   "cell_type": "code",
   "execution_count": 61,
   "metadata": {},
   "outputs": [
    {
     "data": {
      "text/plain": [
       "Pipeline(memory=None,\n",
       "         steps=[('grayify', RGB2GrayTransformer()),\n",
       "                ('hogify',\n",
       "                 HogTransformer(block_norm='L2-Hys', cells_per_block=(3, 3),\n",
       "                                orientations=9, pixels_per_cell=(14, 14),\n",
       "                                y=None)),\n",
       "                ('scalify',\n",
       "                 StandardScaler(copy=True, with_mean=True, with_std=True)),\n",
       "                ('classify',\n",
       "                 SVC(C=10, break_ties=False, cache_size=200, class_weight=None,\n",
       "                     coef0=0.0, decision_function_shape='ovr', degree=3,\n",
       "                     gamma='scale', kernel='rbf', max_iter=-1,\n",
       "                     probability=False, random_state=None, shrinking=True,\n",
       "                     tol=0.001, verbose=False))],\n",
       "         verbose=False)"
      ]
     },
     "execution_count": 61,
     "metadata": {},
     "output_type": "execute_result"
    }
   ],
   "source": [
    "grid_res.best_estimator_"
   ]
  },
  {
   "cell_type": "code",
   "execution_count": 62,
   "metadata": {},
   "outputs": [
    {
     "data": {
      "text/plain": [
       "0.9202518020809549"
      ]
     },
     "execution_count": 62,
     "metadata": {},
     "output_type": "execute_result"
    }
   ],
   "source": [
    "grid_res.best_score_"
   ]
  },
  {
   "cell_type": "code",
   "execution_count": 63,
   "metadata": {},
   "outputs": [
    {
     "data": {
      "text/plain": [
       "{'classify': SVC(C=10, break_ties=False, cache_size=200, class_weight=None, coef0=0.0,\n",
       "     decision_function_shape='ovr', degree=3, gamma='scale', kernel='rbf',\n",
       "     max_iter=-1, probability=False, random_state=None, shrinking=True,\n",
       "     tol=0.001, verbose=False),\n",
       " 'hogify__cells_per_block': (3, 3),\n",
       " 'hogify__orientations': 9,\n",
       " 'hogify__pixels_per_cell': (14, 14)}"
      ]
     },
     "execution_count": 63,
     "metadata": {},
     "output_type": "execute_result"
    }
   ],
   "source": [
    "grid_res.best_params_"
   ]
  },
  {
   "cell_type": "code",
   "execution_count": null,
   "metadata": {},
   "outputs": [],
   "source": []
  },
  {
   "cell_type": "code",
   "execution_count": 64,
   "metadata": {},
   "outputs": [
    {
     "name": "stdout",
     "output_type": "stream",
     "text": [
      "Percentage correct:  93.6\n"
     ]
    }
   ],
   "source": [
    "best_pred = grid_res.predict(X_test)\n",
    "print('Percentage correct: ', 100*np.sum(best_pred == y_test)/len(y_test))"
   ]
  },
  {
   "cell_type": "code",
   "execution_count": 46,
   "metadata": {},
   "outputs": [],
   "source": [
    "from sklearn.metrics import confusion_matrix"
   ]
  },
  {
   "cell_type": "code",
   "execution_count": 65,
   "metadata": {},
   "outputs": [],
   "source": [
    "import matplotlib.pyplot as plt\n",
    "from mpl_toolkits.axes_grid1 import make_axes_locatable\n",
    " \n",
    "def plot_confusion_matrix(cmx, vmax1=None, vmax2=None, vmax3=None):\n",
    "    cmx_norm = 100*cmx / cmx.sum(axis=1, keepdims=True)\n",
    "    cmx_zero_diag = cmx_norm.copy()\n",
    " \n",
    "    np.fill_diagonal(cmx_zero_diag, 0)\n",
    " \n",
    "    fig, ax = plt.subplots(ncols=3)\n",
    "    fig.set_size_inches(12, 3)\n",
    "    [a.set_xticks(range(6)) for a in ax]\n",
    "    [a.set_yticks(range(6)) for a in ax]\n",
    " \n",
    "    im1 = ax[0].imshow(cmx, vmax=vmax1)\n",
    "    ax[0].set_title('as is')\n",
    "    im2 = ax[1].imshow(cmx_norm, vmax=vmax2)\n",
    "    ax[1].set_title('%')\n",
    "    im3 = ax[2].imshow(cmx_zero_diag, vmax=vmax3)\n",
    "    ax[2].set_title('% and 0 diagonal')\n",
    " \n",
    "    dividers = [make_axes_locatable(a) for a in ax]\n",
    "    cax1, cax2, cax3 = [divider.append_axes(\"right\", size=\"5%\", pad=0.1)\n",
    "                        for divider in dividers]\n",
    " \n",
    "    fig.colorbar(im1, cax=cax1)\n",
    "    fig.colorbar(im2, cax=cax2)\n",
    "    fig.colorbar(im3, cax=cax3)\n",
    "    fig.tight_layout()\n",
    " "
   ]
  },
  {
   "cell_type": "code",
   "execution_count": 66,
   "metadata": {},
   "outputs": [
    {
     "data": {
      "image/png": "[encoded data removed]",
      "text/plain": [
       "<Figure size 864x216 with 6 Axes>"
      ]
     },
     "metadata": {
      "needs_background": "light"
     },
     "output_type": "display_data"
    }
   ],
   "source": [
    "cmx_svm = confusion_matrix(y_test, best_pred)\n",
    "\n",
    "\n",
    "plot_confusion_matrix(cmx_svm, vmax1=225, vmax2=100, vmax3=12)"
   ]
  },
  {
   "cell_type": "code",
   "execution_count": null,
   "metadata": {},
   "outputs": [],
   "source": []
  }
 ],
 "metadata": {
  "kernelspec": {
   "display_name": "Python 3",
   "language": "python",
   "name": "python3"
  },
  "language_info": {
   "codemirror_mode": {
    "name": "ipython",
    "version": 3
   },
   "file_extension": ".py",
   "mimetype": "text/x-python",
   "name": "python",
   "nbconvert_exporter": "python",
   "pygments_lexer": "ipython3",
   "version": "3.6.8"
  }
 },
 "nbformat": 4,
 "nbformat_minor": 4
}
