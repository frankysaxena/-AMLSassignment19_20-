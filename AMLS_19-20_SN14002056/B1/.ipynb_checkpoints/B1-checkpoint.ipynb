{
 "cells": [
  {
   "cell_type": "code",
   "execution_count": null,
   "metadata": {},
   "outputs": [],
   "source": [
    "import pandas as pd\n",
    "import sklearn\n",
    "from scipy import misc\n",
    "import cv2\n",
    "import numpy as np \n",
    "\n",
    "from sklearn.tree import DecisionTreeClassifier \n",
    "from sklearn.svm import SVC \n",
    "from sklearn.neighbors import KNeighborsClassifier \n",
    "\n",
    "from sklearn.metrics import plot_confusion_matrix\n",
    "from matplotlib import pyplot as plt\n",
    "import gc"
   ]
  },
  {
   "cell_type": "code",
   "execution_count": null,
   "metadata": {},
   "outputs": [],
   "source": [
    "# dtree_model = DecisionTreeClassifier(max_depth = 2).fit(X_train, y_train) \n",
    "# dtree_predictions = dtree_model.predict(X_test) \n",
    "\n",
    "# svm_model_linear = SVC(kernel = 'linear', C = 1).fit(X_train, y_train) \n",
    "# svm_predictions = svm_model_linear.predict(X_test) \n",
    "\n",
    "X_train = np.load('b1_xtrain.npy')\n",
    "X_test = np.load('b1_xtest.npy')\n",
    "y_train = np.load('b1_ytrain.npy')\n",
    "y_test = np.load('b1_ytest.npy')\n",
    "\n",
    "\n",
    "knn = KNeighborsClassifier(n_neighbors = 7).fit(X_train, y_train) \n",
    "  \n",
    "# accuracy on X_test \n",
    "accuracy = knn.score(X_test, y_test) \n",
    "print(accuracy) \n",
    "  \n",
    "# creating a confusion matrix \n",
    "knn_predictions = knn.predict(X_test)  \n",
    "# cm = confusion_matrix(y_test, knn_predictions) "
   ]
  },
  {
   "cell_type": "code",
   "execution_count": null,
   "metadata": {},
   "outputs": [],
   "source": [
    "labels = np.array(['0', '1', '2', '3', '4'])\n",
    "\n",
    "modelName = \"knn\"\n",
    "depth = 7\n",
    "\n",
    "dsp = plot_confusion_matrix(modelName, X_test, y_test, display_labels=labels, normalize='true')\n",
    "\n",
    "plt.title(\"B1: Confusion Matrix w/ \" + modelName +  \", N: \" + str(depth))\n",
    "\n",
    "print('Percentage correct: ', 100*np.sum(svm_model_linear.predict(X_test) == y_test)/len(y_test))\n",
    "\n",
    "with open('B1/Confusion_Matrix'+modelName + '_N_'+str(depth) + '.png', 'wb') as dsp:\n",
    "    plt.savefig(dsp)"
   ]
  }
 ],
 "metadata": {
  "kernelspec": {
   "display_name": "Python 3",
   "language": "python",
   "name": "python3"
  },
  "language_info": {
   "codemirror_mode": {
    "name": "ipython",
    "version": 3
   },
   "file_extension": ".py",
   "mimetype": "text/x-python",
   "name": "python",
   "nbconvert_exporter": "python",
   "pygments_lexer": "ipython3",
   "version": "3.6.8"
  }
 },
 "nbformat": 4,
 "nbformat_minor": 4
}
